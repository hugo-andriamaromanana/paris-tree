{
 "cells": [
  {
   "cell_type": "code",
   "execution_count": 2,
   "metadata": {},
   "outputs": [],
   "source": [
    "import pandas as pd\n",
    "from os import path"
   ]
  },
  {
   "cell_type": "code",
   "execution_count": 3,
   "metadata": {},
   "outputs": [],
   "source": [
    "def get_geo_tuple(row):\n",
    "    return (row[\"geo_point_2d_a\"], row[\"geo_point_2d_b\"])\n",
    "\n",
    "def get_mesures_tuple(row):\n",
    "    return (row[\"circonference_cm\"], row[\"hauteur_m\"])\n",
    "\n",
    "def better_name_developpement(row):\n",
    "    match row[\"stade_developpement\"]:\n",
    "        case \"U\":\n",
    "            return \"Inconnu\"\n",
    "        case \"A\":\n",
    "            return \"Adulte\"\n",
    "        case \"M\":\n",
    "            return \"Mature\"\n",
    "        case 'J':\n",
    "            return \"Jeune\"\n",
    "        case \"JA\":\n",
    "            return \"Jeune Adulte\"\n"
   ]
  },
  {
   "cell_type": "code",
   "execution_count": 4,
   "metadata": {},
   "outputs": [
    {
     "name": "stdout",
     "output_type": "stream",
     "text": [
      "<class 'pandas.core.frame.DataFrame'>\n",
      "RangeIndex: 200137 entries, 0 to 200136\n",
      "Data columns (total 18 columns):\n",
      " #   Column               Non-Null Count   Dtype  \n",
      "---  ------               --------------   -----  \n",
      " 0   id                   200137 non-null  int64  \n",
      " 1   type_emplacement     200137 non-null  object \n",
      " 2   domanialite          200136 non-null  object \n",
      " 3   arrondissement       200137 non-null  object \n",
      " 4   complement_addresse  30902 non-null   object \n",
      " 5   numero               0 non-null       float64\n",
      " 6   lieu                 200137 non-null  object \n",
      " 7   id_emplacement       200137 non-null  object \n",
      " 8   libelle_francais     198640 non-null  object \n",
      " 9   genre                200121 non-null  object \n",
      " 10  espece               198385 non-null  object \n",
      " 11  variete              36777 non-null   object \n",
      " 12  circonference_cm     200137 non-null  int64  \n",
      " 13  hauteur_m            200137 non-null  int64  \n",
      " 14  stade_developpement  132932 non-null  object \n",
      " 15  remarquable          137039 non-null  float64\n",
      " 16  geo_point_2d_a       200137 non-null  float64\n",
      " 17  geo_point_2d_b       200137 non-null  float64\n",
      "dtypes: float64(4), int64(3), object(11)\n",
      "memory usage: 27.5+ MB\n"
     ]
    }
   ],
   "source": [
    "df = pd.read_csv(path.join(\"..\",\"data/raw\",\"paris_threes_raw.csv\"), sep=\";\")\n",
    "df.info()"
   ]
  },
  {
   "cell_type": "code",
   "execution_count": 5,
   "metadata": {},
   "outputs": [
    {
     "data": {
      "text/html": [
       "<div>\n",
       "<style scoped>\n",
       "    .dataframe tbody tr th:only-of-type {\n",
       "        vertical-align: middle;\n",
       "    }\n",
       "\n",
       "    .dataframe tbody tr th {\n",
       "        vertical-align: top;\n",
       "    }\n",
       "\n",
       "    .dataframe thead th {\n",
       "        text-align: right;\n",
       "    }\n",
       "</style>\n",
       "<table border=\"1\" class=\"dataframe\">\n",
       "  <thead>\n",
       "    <tr style=\"text-align: right;\">\n",
       "      <th></th>\n",
       "      <th>id</th>\n",
       "      <th>type_emplacement</th>\n",
       "      <th>domanialite</th>\n",
       "      <th>arrondissement</th>\n",
       "      <th>complement_addresse</th>\n",
       "      <th>numero</th>\n",
       "      <th>lieu</th>\n",
       "      <th>id_emplacement</th>\n",
       "      <th>libelle_francais</th>\n",
       "      <th>genre</th>\n",
       "      <th>espece</th>\n",
       "      <th>variete</th>\n",
       "      <th>circonference_cm</th>\n",
       "      <th>hauteur_m</th>\n",
       "      <th>stade_developpement</th>\n",
       "      <th>remarquable</th>\n",
       "      <th>geo_point_2d_a</th>\n",
       "      <th>geo_point_2d_b</th>\n",
       "    </tr>\n",
       "  </thead>\n",
       "  <tbody>\n",
       "    <tr>\n",
       "      <th>0</th>\n",
       "      <td>99874</td>\n",
       "      <td>Arbre</td>\n",
       "      <td>Jardin</td>\n",
       "      <td>PARIS 7E ARRDT</td>\n",
       "      <td>NaN</td>\n",
       "      <td>NaN</td>\n",
       "      <td>MAIRIE DU 7E 116 RUE DE GRENELLE PARIS 7E</td>\n",
       "      <td>19</td>\n",
       "      <td>Marronnier</td>\n",
       "      <td>Aesculus</td>\n",
       "      <td>hippocastanum</td>\n",
       "      <td>NaN</td>\n",
       "      <td>20</td>\n",
       "      <td>5</td>\n",
       "      <td>NaN</td>\n",
       "      <td>0.0</td>\n",
       "      <td>48.857620</td>\n",
       "      <td>2.320962</td>\n",
       "    </tr>\n",
       "    <tr>\n",
       "      <th>1</th>\n",
       "      <td>99875</td>\n",
       "      <td>Arbre</td>\n",
       "      <td>Jardin</td>\n",
       "      <td>PARIS 7E ARRDT</td>\n",
       "      <td>NaN</td>\n",
       "      <td>NaN</td>\n",
       "      <td>MAIRIE DU 7E 116 RUE DE GRENELLE PARIS 7E</td>\n",
       "      <td>20</td>\n",
       "      <td>If</td>\n",
       "      <td>Taxus</td>\n",
       "      <td>baccata</td>\n",
       "      <td>NaN</td>\n",
       "      <td>65</td>\n",
       "      <td>8</td>\n",
       "      <td>A</td>\n",
       "      <td>NaN</td>\n",
       "      <td>48.857656</td>\n",
       "      <td>2.321031</td>\n",
       "    </tr>\n",
       "  </tbody>\n",
       "</table>\n",
       "</div>"
      ],
      "text/plain": [
       "      id type_emplacement domanialite  arrondissement complement_addresse  \\\n",
       "0  99874            Arbre      Jardin  PARIS 7E ARRDT                 NaN   \n",
       "1  99875            Arbre      Jardin  PARIS 7E ARRDT                 NaN   \n",
       "\n",
       "   numero                                       lieu id_emplacement  \\\n",
       "0     NaN  MAIRIE DU 7E 116 RUE DE GRENELLE PARIS 7E             19   \n",
       "1     NaN  MAIRIE DU 7E 116 RUE DE GRENELLE PARIS 7E             20   \n",
       "\n",
       "  libelle_francais     genre         espece variete  circonference_cm  \\\n",
       "0       Marronnier  Aesculus  hippocastanum     NaN                20   \n",
       "1               If     Taxus        baccata     NaN                65   \n",
       "\n",
       "   hauteur_m stade_developpement  remarquable  geo_point_2d_a  geo_point_2d_b  \n",
       "0          5                 NaN          0.0       48.857620        2.320962  \n",
       "1          8                   A          NaN       48.857656        2.321031  "
      ]
     },
     "execution_count": 5,
     "metadata": {},
     "output_type": "execute_result"
    }
   ],
   "source": [
    "df.head(2)"
   ]
  },
  {
   "cell_type": "markdown",
   "metadata": {},
   "source": [
    "# First impressions \n",
    "\n",
    "The dataset is composed of **18 features** & **200 137 instances**.  \n",
    "Each observation contains an datas about a three : what is the three (descriptive) and where it is (geographic information).  \n",
    "We have a lot of null values, and some columns seems to be useless (unique values or mergeable), let's do some exploration."
   ]
  },
  {
   "cell_type": "code",
   "execution_count": 6,
   "metadata": {},
   "outputs": [
    {
     "name": "stdout",
     "output_type": "stream",
     "text": [
      "['Arbre']\n",
      "<class 'pandas.core.frame.DataFrame'>\n",
      "RangeIndex: 200137 entries, 0 to 200136\n",
      "Data columns (total 17 columns):\n",
      " #   Column               Non-Null Count   Dtype  \n",
      "---  ------               --------------   -----  \n",
      " 0   id                   200137 non-null  int64  \n",
      " 1   domanialite          200136 non-null  object \n",
      " 2   arrondissement       200137 non-null  object \n",
      " 3   complement_addresse  30902 non-null   object \n",
      " 4   numero               0 non-null       float64\n",
      " 5   lieu                 200137 non-null  object \n",
      " 6   id_emplacement       200137 non-null  object \n",
      " 7   libelle_francais     198640 non-null  object \n",
      " 8   genre                200121 non-null  object \n",
      " 9   espece               198385 non-null  object \n",
      " 10  variete              36777 non-null   object \n",
      " 11  circonference_cm     200137 non-null  int64  \n",
      " 12  hauteur_m            200137 non-null  int64  \n",
      " 13  stade_developpement  132932 non-null  object \n",
      " 14  remarquable          137039 non-null  float64\n",
      " 15  geo_point_2d_a       200137 non-null  float64\n",
      " 16  geo_point_2d_b       200137 non-null  float64\n",
      "dtypes: float64(4), int64(3), object(10)\n",
      "memory usage: 26.0+ MB\n"
     ]
    }
   ],
   "source": [
    "print(df[\"type_emplacement\"].unique())\n",
    "df.drop([\"type_emplacement\"], axis=1, inplace=True)\n",
    "df.info()"
   ]
  },
  {
   "cell_type": "markdown",
   "metadata": {},
   "source": [
    "\"type_emplacement\" was the only feature with only one distinct value.  \n",
    "Now let's look at some column we can tune and transform."
   ]
  },
  {
   "cell_type": "code",
   "execution_count": 7,
   "metadata": {},
   "outputs": [],
   "source": [
    "\n",
    "# df[\"geo_points\"] = df.apply(get_geo_tuple, axis=1)\n",
    "# df[\"mesurement_cm\"] = df.apply(get_mesures_tuple, axis=1)\n",
    "# df.drop([\"geo_point_2d_a\",\"geo_point_2d_b\", \"circonference_cm\", \"hauteur_m\"],axis=1,inplace=True)\n",
    "# df.head(2)\n",
    "\n",
    "#Power BI can't opperate with tuple "
   ]
  },
  {
   "cell_type": "code",
   "execution_count": 8,
   "metadata": {},
   "outputs": [
    {
     "name": "stdout",
     "output_type": "stream",
     "text": [
      "[nan 'A' 'J' 'M' 'JA']\n"
     ]
    }
   ],
   "source": [
    "print(df[\"stade_developpement\"].unique())"
   ]
  },
  {
   "cell_type": "markdown",
   "metadata": {},
   "source": [
    "# Valeurs nulls\n",
    "Maintenant nous allons réfléchir à comment combler les valeurs nulles."
   ]
  },
  {
   "cell_type": "code",
   "execution_count": 9,
   "metadata": {},
   "outputs": [],
   "source": [
    "df[\"stade_developpement\"].fillna(\"U\", inplace=True)\n",
    "df[\"stade_developpement\"] = df.apply(better_name_developpement, axis=1)"
   ]
  },
  {
   "cell_type": "code",
   "execution_count": 10,
   "metadata": {},
   "outputs": [],
   "source": [
    "df.drop([\"numero\"], axis=1, inplace=True)"
   ]
  },
  {
   "cell_type": "code",
   "execution_count": 11,
   "metadata": {},
   "outputs": [],
   "source": [
    "df[\"complement_addresse\"].fillna(\" \", inplace=True)"
   ]
  },
  {
   "cell_type": "code",
   "execution_count": 12,
   "metadata": {},
   "outputs": [],
   "source": [
    "df[\"libelle_francais\"].fillna(\"Inconnu\", inplace=True)\n",
    "df[\"genre\"].fillna(\"Inconnu\", inplace=True)\n",
    "df[\"espece\"].fillna(\"Inconnu\", inplace=True)\n",
    "df[\"variete\"].fillna(\"Inconnu\", inplace=True)"
   ]
  },
  {
   "cell_type": "code",
   "execution_count": 13,
   "metadata": {},
   "outputs": [],
   "source": [
    "df[\"remarquable\"].fillna(0, inplace=True)"
   ]
  },
  {
   "cell_type": "code",
   "execution_count": 14,
   "metadata": {},
   "outputs": [
    {
     "name": "stdout",
     "output_type": "stream",
     "text": [
      "['Jardin' nan]\n"
     ]
    }
   ],
   "source": [
    "lieu_missing = df.loc[df[\"domanialite\"].isnull()][\"lieu\"].values[0]\n",
    "print(df[df[\"lieu\"]==lieu_missing][\"domanialite\"].unique())\n",
    "# It is always \"jardin\", so we can transform it\n",
    "df[\"domanialite\"].fillna(\"Jardin\", inplace=True)\n"
   ]
  },
  {
   "cell_type": "code",
   "execution_count": 15,
   "metadata": {},
   "outputs": [
    {
     "name": "stdout",
     "output_type": "stream",
     "text": [
      "<class 'pandas.core.frame.DataFrame'>\n",
      "RangeIndex: 200137 entries, 0 to 200136\n",
      "Data columns (total 16 columns):\n",
      " #   Column               Non-Null Count   Dtype  \n",
      "---  ------               --------------   -----  \n",
      " 0   id                   200137 non-null  int64  \n",
      " 1   domanialite          200137 non-null  object \n",
      " 2   arrondissement       200137 non-null  object \n",
      " 3   complement_addresse  200137 non-null  object \n",
      " 4   lieu                 200137 non-null  object \n",
      " 5   id_emplacement       200137 non-null  object \n",
      " 6   libelle_francais     200137 non-null  object \n",
      " 7   genre                200137 non-null  object \n",
      " 8   espece               200137 non-null  object \n",
      " 9   variete              200137 non-null  object \n",
      " 10  circonference_cm     200137 non-null  int64  \n",
      " 11  hauteur_m            200137 non-null  int64  \n",
      " 12  stade_developpement  200137 non-null  object \n",
      " 13  remarquable          200137 non-null  float64\n",
      " 14  geo_point_2d_a       200137 non-null  float64\n",
      " 15  geo_point_2d_b       200137 non-null  float64\n",
      "dtypes: float64(3), int64(3), object(10)\n",
      "memory usage: 24.4+ MB\n"
     ]
    }
   ],
   "source": [
    "df.info()"
   ]
  },
  {
   "cell_type": "code",
   "execution_count": 16,
   "metadata": {},
   "outputs": [
    {
     "data": {
      "text/html": [
       "<div>\n",
       "<style scoped>\n",
       "    .dataframe tbody tr th:only-of-type {\n",
       "        vertical-align: middle;\n",
       "    }\n",
       "\n",
       "    .dataframe tbody tr th {\n",
       "        vertical-align: top;\n",
       "    }\n",
       "\n",
       "    .dataframe thead th {\n",
       "        text-align: right;\n",
       "    }\n",
       "</style>\n",
       "<table border=\"1\" class=\"dataframe\">\n",
       "  <thead>\n",
       "    <tr style=\"text-align: right;\">\n",
       "      <th></th>\n",
       "      <th>id</th>\n",
       "      <th>domanialite</th>\n",
       "      <th>arrondissement</th>\n",
       "      <th>complement_addresse</th>\n",
       "      <th>lieu</th>\n",
       "      <th>id_emplacement</th>\n",
       "      <th>libelle_francais</th>\n",
       "      <th>genre</th>\n",
       "      <th>espece</th>\n",
       "      <th>variete</th>\n",
       "      <th>circonference_cm</th>\n",
       "      <th>hauteur_m</th>\n",
       "      <th>stade_developpement</th>\n",
       "      <th>remarquable</th>\n",
       "      <th>geo_point_2d_a</th>\n",
       "      <th>geo_point_2d_b</th>\n",
       "    </tr>\n",
       "  </thead>\n",
       "  <tbody>\n",
       "    <tr>\n",
       "      <th>0</th>\n",
       "      <td>99874</td>\n",
       "      <td>Jardin</td>\n",
       "      <td>PARIS 7E ARRDT</td>\n",
       "      <td></td>\n",
       "      <td>MAIRIE DU 7E 116 RUE DE GRENELLE PARIS 7E</td>\n",
       "      <td>19</td>\n",
       "      <td>Marronnier</td>\n",
       "      <td>Aesculus</td>\n",
       "      <td>hippocastanum</td>\n",
       "      <td>Inconnu</td>\n",
       "      <td>20</td>\n",
       "      <td>5</td>\n",
       "      <td>Inconnu</td>\n",
       "      <td>0.0</td>\n",
       "      <td>48.857620</td>\n",
       "      <td>2.320962</td>\n",
       "    </tr>\n",
       "    <tr>\n",
       "      <th>1</th>\n",
       "      <td>99875</td>\n",
       "      <td>Jardin</td>\n",
       "      <td>PARIS 7E ARRDT</td>\n",
       "      <td></td>\n",
       "      <td>MAIRIE DU 7E 116 RUE DE GRENELLE PARIS 7E</td>\n",
       "      <td>20</td>\n",
       "      <td>If</td>\n",
       "      <td>Taxus</td>\n",
       "      <td>baccata</td>\n",
       "      <td>Inconnu</td>\n",
       "      <td>65</td>\n",
       "      <td>8</td>\n",
       "      <td>Adulte</td>\n",
       "      <td>0.0</td>\n",
       "      <td>48.857656</td>\n",
       "      <td>2.321031</td>\n",
       "    </tr>\n",
       "    <tr>\n",
       "      <th>2</th>\n",
       "      <td>99876</td>\n",
       "      <td>Jardin</td>\n",
       "      <td>PARIS 7E ARRDT</td>\n",
       "      <td></td>\n",
       "      <td>MAIRIE DU 7E 116 RUE DE GRENELLE PARIS 7E</td>\n",
       "      <td>21</td>\n",
       "      <td>If</td>\n",
       "      <td>Taxus</td>\n",
       "      <td>baccata</td>\n",
       "      <td>Inconnu</td>\n",
       "      <td>90</td>\n",
       "      <td>10</td>\n",
       "      <td>Adulte</td>\n",
       "      <td>0.0</td>\n",
       "      <td>48.857705</td>\n",
       "      <td>2.321061</td>\n",
       "    </tr>\n",
       "    <tr>\n",
       "      <th>3</th>\n",
       "      <td>99877</td>\n",
       "      <td>Jardin</td>\n",
       "      <td>PARIS 7E ARRDT</td>\n",
       "      <td></td>\n",
       "      <td>MAIRIE DU 7E 116 RUE DE GRENELLE PARIS 7E</td>\n",
       "      <td>22</td>\n",
       "      <td>Erable</td>\n",
       "      <td>Acer</td>\n",
       "      <td>negundo</td>\n",
       "      <td>Inconnu</td>\n",
       "      <td>60</td>\n",
       "      <td>8</td>\n",
       "      <td>Adulte</td>\n",
       "      <td>0.0</td>\n",
       "      <td>48.857722</td>\n",
       "      <td>2.321006</td>\n",
       "    </tr>\n",
       "    <tr>\n",
       "      <th>4</th>\n",
       "      <td>99878</td>\n",
       "      <td>Jardin</td>\n",
       "      <td>PARIS 17E ARRDT</td>\n",
       "      <td></td>\n",
       "      <td>PARC CLICHY-BATIGNOLLES-MARTIN LUTHER KING</td>\n",
       "      <td>000G0037</td>\n",
       "      <td>Arbre à miel</td>\n",
       "      <td>Tetradium</td>\n",
       "      <td>daniellii</td>\n",
       "      <td>Inconnu</td>\n",
       "      <td>38</td>\n",
       "      <td>0</td>\n",
       "      <td>Inconnu</td>\n",
       "      <td>0.0</td>\n",
       "      <td>48.890435</td>\n",
       "      <td>2.315289</td>\n",
       "    </tr>\n",
       "  </tbody>\n",
       "</table>\n",
       "</div>"
      ],
      "text/plain": [
       "      id domanialite   arrondissement complement_addresse  \\\n",
       "0  99874      Jardin   PARIS 7E ARRDT                       \n",
       "1  99875      Jardin   PARIS 7E ARRDT                       \n",
       "2  99876      Jardin   PARIS 7E ARRDT                       \n",
       "3  99877      Jardin   PARIS 7E ARRDT                       \n",
       "4  99878      Jardin  PARIS 17E ARRDT                       \n",
       "\n",
       "                                         lieu id_emplacement libelle_francais  \\\n",
       "0   MAIRIE DU 7E 116 RUE DE GRENELLE PARIS 7E             19       Marronnier   \n",
       "1   MAIRIE DU 7E 116 RUE DE GRENELLE PARIS 7E             20               If   \n",
       "2   MAIRIE DU 7E 116 RUE DE GRENELLE PARIS 7E             21               If   \n",
       "3   MAIRIE DU 7E 116 RUE DE GRENELLE PARIS 7E             22           Erable   \n",
       "4  PARC CLICHY-BATIGNOLLES-MARTIN LUTHER KING       000G0037     Arbre à miel   \n",
       "\n",
       "       genre         espece  variete  circonference_cm  hauteur_m  \\\n",
       "0   Aesculus  hippocastanum  Inconnu                20          5   \n",
       "1      Taxus        baccata  Inconnu                65          8   \n",
       "2      Taxus        baccata  Inconnu                90         10   \n",
       "3       Acer        negundo  Inconnu                60          8   \n",
       "4  Tetradium      daniellii  Inconnu                38          0   \n",
       "\n",
       "  stade_developpement  remarquable  geo_point_2d_a  geo_point_2d_b  \n",
       "0             Inconnu          0.0       48.857620        2.320962  \n",
       "1              Adulte          0.0       48.857656        2.321031  \n",
       "2              Adulte          0.0       48.857705        2.321061  \n",
       "3              Adulte          0.0       48.857722        2.321006  \n",
       "4             Inconnu          0.0       48.890435        2.315289  "
      ]
     },
     "execution_count": 16,
     "metadata": {},
     "output_type": "execute_result"
    }
   ],
   "source": [
    "df.head(5)"
   ]
  },
  {
   "cell_type": "code",
   "execution_count": 17,
   "metadata": {},
   "outputs": [],
   "source": [
    "df.to_csv(path.join(\"..\",\"data/transform\",\"paris_threes_transformed.csv\"), index=False)"
   ]
  }
 ],
 "metadata": {
  "kernelspec": {
   "display_name": "tf",
   "language": "python",
   "name": "python3"
  },
  "language_info": {
   "codemirror_mode": {
    "name": "ipython",
    "version": 3
   },
   "file_extension": ".py",
   "mimetype": "text/x-python",
   "name": "python",
   "nbconvert_exporter": "python",
   "pygments_lexer": "ipython3",
   "version": "3.11.4"
  }
 },
 "nbformat": 4,
 "nbformat_minor": 2
}
